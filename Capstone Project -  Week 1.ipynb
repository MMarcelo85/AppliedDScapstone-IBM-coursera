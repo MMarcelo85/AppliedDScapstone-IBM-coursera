{
 "cells": [
  {
   "cell_type": "markdown",
   "metadata": {},
   "source": [
    "# Coursera Capstone Project\n",
    "\n",
    "## The Battle of Neighborhoods Buenos Aires Edition. (Week 1)"
   ]
  },
  {
   "cell_type": "markdown",
   "metadata": {},
   "source": [
    "Capstone Project - The Battle of Neighborhoods, Buenos Aires edition. \n",
    "\n",
    "### Brief description of Buenos Aires.\n",
    "\n",
    "\n",
    "Buenos Aires, also known as Autonomous City of Buenos Aires, is the capital and largest city of Argentina with almost 3 million inhabitants (2,890,151 according to the 2010 census). The city is located on the western shore of the estuary of Río de la Plata, on the South American continent’s southeastern coast. The “Greater Buenos Aires” which includes also several Buenos Aires Province districts, constitutes the fourth-most popolus metropolitan area in the Americas, with a population of around 17 million, and one of the 20th biggest cities in the world. The city is historically divided into 48 barrios (neighborhoods) and a newer scheme has divided it into 15 comunas (communes) mainly for political elections purposes.  \n",
    "\n",
    "\n",
    "Buenos Aires is a cosmopolitan city and it’s also well known for it’s preserved Eclectic European Architecture and rich cultural life.  Strongly influenced by European culture, Buenos Aires is sometimes referred to as the “Paris of South America”. The city has the busiest live theater industry in Latin America, and it’s the home the Teatro Colón, an internationally rated opera house. \n",
    "\n",
    "\n",
    "Buenos Aires is the financial, industrial and commercial hub of Argentina. The economy in the city proper alone, measured by Gross Geographic Product (adjusted for purchasing power), totaled US\\\\$84.7 billion (US\\\\$34,200 per capita) in 2011 and amounts to nearly a quarter of Argentina’s as a whole.\n",
    "\n",
    "\n",
    "Football is a passion for Argentines. Buenos Aires has the highest concentration of football teams of any city in the world (featuring no fewer than 24 professional football teams), with many of it’s teams playing in the major league. The best-known rivalry is the one between River Plate and Boca Juniors (09/12/2018†), the match is better known as Superclásico. Watching a match between these two teams was deeemed one of the “50 sporting things you must do before you die” by The Observer. The best Superclásico ever was  the historically final of the Copa Libertadores Championship, held on Santiago Bernabeu stadium on the 9th of december of 2018. River Plate won  3-1 and was crowned as the Copa Libertadores Champion."
   ]
  },
  {
   "cell_type": "markdown",
   "metadata": {},
   "source": [
    "\n",
    "### Problem description.\n",
    "Since the city is very populous and Traffic is usually terribly heavy, specially on working hours, people who lives in the city often likes to be close to work. Also, having parks, pharmacies, coffee-shops on other stores around is usually considered a plus. Buenos Aires is a relatively safe city to live in, if you compare it with other cities in Argentina and Latin America, but that does not mean that you don’t have to worry about security. On the contrary, is a issue that can not be avoided when moving around the city and choosing a neighborhood where to live. \n",
    "\n",
    "\n",
    "Also rental prices are always a factor and there is much variation between neighborhoods.\n",
    "For the purpose of moving to another neighborhood, you may need a first approach which could tell you where to start looking and make your search more straight forward. It would be great to have a report that can tell you which neighborhoods are most similar and which neighborhood meets your conditions the most. \n",
    "\n",
    "\n",
    "The aim of this report is to analyze the barrios of Buenos Aires city, so I can decide where to move since I ‘ve been ofered a new position as a Data Scientist. I would have to work at Núñez Neighborhood if I accept it and I currently live on Boedo with my wife and kid. My wife likes the idea to moving towards Núñez because she is familiar with the sorroundings, and she would have her friends and relatives closer. In order to move, I would have to find an apartment with the following aspects:\n",
    "* Apartment with 2 bedrooms with monthly rent <= $50.000 Argentinan Pesos. \n",
    "* Apartment located within approximately 1 km from a subway station in Buenos Aires. I go to work by mororcycle, so I don't use the subway very often, but it's must when it rains or in the coldest days of winter.\n",
    "* Neighborhood with low crime rate.\n",
    "* Area with venues similar to the ones described for current location.\n",
    "    \n",
    "    \n",
    "Also, I will group Neighborhoods into similar clusters. That information can be used to find out neighborhoods that are same as your current neighborhood or at least similar. This information would be useful for people who are interested in relocating to a different part of the city and are interested in finding new neighborhoods that have similar venues to the ones in their current neighborhood."
   ]
  },
  {
   "cell_type": "markdown",
   "metadata": {},
   "source": [
    "### Data Description. \n",
    "\n",
    "\n",
    "For this project we will use the data listed below:\n",
    "\n",
    "\n",
    "**DATASETS**\n",
    "\n",
    "1-  _Buenos Aires open data website_ (https://data.buenosaires.gob.ar/)\n",
    "\n",
    "    A) barrios.csv  - Localization and geographical limits of city neighborhoods.\n",
    "    B) bocas-de-subte.csv – subway entrances localization.\n",
    "    C) delitos_2019.csv – Localization of each crime registered in the city in 2019.\n",
    "    D) caba_pob_barrios_2010.csv – Population by Neighborhood.\n",
    "\n",
    "2- _Mercadolibre_ (https://www.mercadolibre.com.ar)\n",
    "\n",
    "    E) url0.csv to url24.csv – Since the Buenos Aires open data website has a data set about rental prices with more than 5000 missing values, it is useless for our purpose. To amend this we scrapped Mercadolibre web site and extracted with all the relevant information about two bedroom apartment rental notices in 25 csv files. \n",
    "\n",
    "\n",
    "3- _Open Street Data API_\n",
    "\n",
    "    We will request other data that can not be found in Buenos Aires Open Data website, like neighborhoods longitude and latitude coordinates.\n",
    "\n",
    "\n",
    "4- _Foursquare API_\n",
    "\n",
    "    We will locate different venues for the analyzed neighborhoods."
   ]
  },
  {
   "cell_type": "markdown",
   "metadata": {},
   "source": [
    "### How the data will be used to solve the problem\n",
    "\n",
    "The first stage (Part Nº1) is about loading, cleaning and adding some variables to the data. I will use Buenos Aires Open Data to build one data set for Buenos Aires Neighborhoods. Then I will use Mercado Libre scrapped data to get the average Rental price per neighborhood and add it to the main data frame. Finally i will do some exploratory analysis. I will be saving all the generated datasets for backup and later use in Part Nº2.\n",
    "\n",
    "After Data Wrangling is done, the data will be used as follows: \n",
    "\n",
    "* Use Foursquare and geopy data to map top 10 venues for all Buenos Aires neighborhoods.\n",
    "\n",
    "* Make 5 clusters for Buenos Aires Neighborhoods, analyse wich Neigborhoods are candidates for me to move in and get some preliminar conclutions.\n",
    "\n",
    "* Map the apartments avaiable for rental which meets my conditions. Addresses from rental locations will be converted to geodata( lat, long) using Geopy-distance and Nominatim."
   ]
  },
  {
   "cell_type": "code",
   "execution_count": null,
   "metadata": {},
   "outputs": [],
   "source": []
  }
 ],
 "metadata": {
  "kernelspec": {
   "display_name": "Python 3",
   "language": "python",
   "name": "python3"
  },
  "language_info": {
   "codemirror_mode": {
    "name": "ipython",
    "version": 3
   },
   "file_extension": ".py",
   "mimetype": "text/x-python",
   "name": "python",
   "nbconvert_exporter": "python",
   "pygments_lexer": "ipython3",
   "version": "3.6.10"
  }
 },
 "nbformat": 4,
 "nbformat_minor": 4
}
